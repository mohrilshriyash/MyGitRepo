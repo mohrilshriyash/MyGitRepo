{
  "nbformat": 4,
  "nbformat_minor": 0,
  "metadata": {
    "colab": {
      "provenance": [],
      "authorship_tag": "ABX9TyMU8jhNJKRc6ZTXuqfjKi32",
      "include_colab_link": true
    },
    "kernelspec": {
      "name": "python3",
      "display_name": "Python 3"
    },
    "language_info": {
      "name": "python"
    }
  },
  "cells": [
    {
      "cell_type": "markdown",
      "metadata": {
        "id": "view-in-github",
        "colab_type": "text"
      },
      "source": [
        "<a href=\"https://colab.research.google.com/github/mohrilshriyash/MyGitRepo/blob/main/PracticeProblem1.ipynb\" target=\"_parent\"><img src=\"https://colab.research.google.com/assets/colab-badge.svg\" alt=\"Open In Colab\"/></a>"
      ]
    },
    {
      "cell_type": "code",
      "execution_count": null,
      "metadata": {
        "id": "9yx71ECH-jDR"
      },
      "outputs": [],
      "source": []
    },
    {
      "cell_type": "markdown",
      "source": [
        "Exercise - Data Analysis for Vacation Planning\n",
        "You're planning a vacation, and you need to decide which city you want to visit. You have shortlisted four cities and identified the return flight cost, daily hotel cost, and weekly car rental cost. While renting a car, you need to pay for entire weeks, even if you return the car sooner\n",
        "\n",
        "\n",
        "\n"
      ],
      "metadata": {
        "id": "xfk6rp2g_NAZ"
      }
    },
    {
      "cell_type": "code",
      "source": [
        "\"\"\"City\tReturn Flight ($)\tHotel per day ($)\tWeekly Car Rental ($)\n",
        "Paris\t      200\t             20\t             200\n",
        "London\t    250\t             30\t             120\n",
        "Dubai\t      370\t             15\t              80\n",
        "Mumbai\t    450\t             10             \t70\n",
        "\n",
        "1)If you're planning a 1-week long trip, which city should you visit to spend the least amount of money?\n",
        "2)How does the answer to the previous question change if you change the trip's duration to four days, ten days or two weeks?\n",
        "3)If your total budget for the trip is $1000, which city should you visit to maximize the duration of your trip? Which city should you visit if you want to\n",
        " minimize the duration?\n",
        "How does the answer to the previous question change if your budget is $600, $2000, or $1500?\"\"\"\n"
      ],
      "metadata": {
        "id": "3TIOdbA7B8EW"
      },
      "execution_count": null,
      "outputs": []
    },
    {
      "cell_type": "code",
      "source": [
        "def travel_cost(flight_cost,hotel_cost,days,car_rent):\n",
        "  cost= flight_cost + (hotel_cost*days) + car_rent\n",
        "  return cost\n",
        "\n"
      ],
      "metadata": {
        "id": "j1Lfrec0CB7m"
      },
      "execution_count": 7,
      "outputs": []
    },
    {
      "cell_type": "markdown",
      "source": [
        "Creating a list for cities and entering costs of different items and calculating the final cost."
      ],
      "metadata": {
        "id": "_yFZJhQxK-Uw"
      }
    },
    {
      "cell_type": "code",
      "source": [
        "cities=[\"Paris\",\"London\",\"Dubai\",\"Mumbai\"]\n",
        "# creating a dict to store total cost of travel corresponding to a city\n",
        "budget={}\n",
        "\n",
        "days=int(input(\"enter trip duration in days: \"))\n",
        "for c in cities:\n",
        "  flight_cost=int(input(f\"Enter flight ticket price for {c} :\"))\n",
        "  hotel_cost=int(input(f\"Enter hotel cost/day for {c}: \"))\n",
        " # days=int(input(\"enter the no of days for stay: \"))\n",
        "  car_rent=int(input(f\"enter weekly car rent for {c}: \"))\n",
        "\n",
        "  final_cost=travel_cost(flight_cost,hotel_cost,days,car_rent)\n",
        "  budget[c]=final_cost\n",
        "\n",
        "print(budget)"
      ],
      "metadata": {
        "colab": {
          "base_uri": "https://localhost:8080/"
        },
        "id": "sIsCzm0rD-Kh",
        "outputId": "4f927552-bfcc-4fdd-ca0a-901df08e686f"
      },
      "execution_count": 9,
      "outputs": [
        {
          "output_type": "stream",
          "name": "stdout",
          "text": [
            "enter trip duration: 7\n",
            "Enter flight ticket price:200\n",
            "Enter hotel cost/day: 20\n",
            "enter weekly car rent: 200\n",
            "Enter flight ticket price:250\n",
            "Enter hotel cost/day: 30\n",
            "enter weekly car rent: 120\n",
            "Enter flight ticket price:370\n",
            "Enter hotel cost/day: 15\n",
            "enter weekly car rent: 80\n",
            "Enter flight ticket price:450\n",
            "Enter hotel cost/day: 10\n",
            "enter weekly car rent: 70\n",
            "{'Paris': 540, 'London': 580, 'Dubai': 555, 'Mumbai': 590}\n"
          ]
        }
      ]
    },
    {
      "cell_type": "markdown",
      "source": [
        "finding the city which requires least budget\n"
      ],
      "metadata": {
        "id": "5JH78E5zM73F"
      }
    },
    {
      "cell_type": "code",
      "source": [
        "print(\"The city to travel with least budget is :\",min(budget.items(), key=lambda x: x[1]))\n"
      ],
      "metadata": {
        "colab": {
          "base_uri": "https://localhost:8080/"
        },
        "id": "DX_0VihYM4o4",
        "outputId": "24df8022-0f8b-4b05-e19b-96bc1014c6ce"
      },
      "execution_count": 11,
      "outputs": [
        {
          "output_type": "stream",
          "name": "stdout",
          "text": [
            "The city to travel with least budget is : ('Paris', 540)\n"
          ]
        }
      ]
    }
  ]
}