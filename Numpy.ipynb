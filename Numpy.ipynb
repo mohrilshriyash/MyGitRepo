{
  "nbformat": 4,
  "nbformat_minor": 0,
  "metadata": {
    "colab": {
      "provenance": [],
      "authorship_tag": "ABX9TyMTE1Z+tI960fnTjhAJDqUx",
      "include_colab_link": true
    },
    "kernelspec": {
      "name": "python3",
      "display_name": "Python 3"
    },
    "language_info": {
      "name": "python"
    }
  },
  "cells": [
    {
      "cell_type": "markdown",
      "metadata": {
        "id": "view-in-github",
        "colab_type": "text"
      },
      "source": [
        "<a href=\"https://colab.research.google.com/github/mohrilshriyash/MyGitRepo/blob/main/Numpy.ipynb\" target=\"_parent\"><img src=\"https://colab.research.google.com/assets/colab-badge.svg\" alt=\"Open In Colab\"/></a>"
      ]
    },
    {
      "cell_type": "markdown",
      "source": [
        "## Working with Python Numpy Library"
      ],
      "metadata": {
        "id": "jc7-f2yKKgS8"
      }
    },
    {
      "cell_type": "code",
      "execution_count": 1,
      "metadata": {
        "id": "FjbvQn4rFSLn"
      },
      "outputs": [],
      "source": [
        "import numpy as np"
      ]
    },
    {
      "cell_type": "markdown",
      "source": [
        "1)Creating Numpy array"
      ],
      "metadata": {
        "id": "sFRGZw-mL6sn"
      }
    },
    {
      "cell_type": "markdown",
      "source": [
        "To create an ndarray, we can pass a list, tuple or any array-like object into the array() method, and it will be converted into an ndarray:"
      ],
      "metadata": {
        "id": "bIQ779I3MPHr"
      }
    },
    {
      "cell_type": "code",
      "source": [
        "a=np.arange(5)\n",
        "print(a)\n",
        "print(type(a))"
      ],
      "metadata": {
        "colab": {
          "base_uri": "https://localhost:8080/"
        },
        "id": "syDUqm0JKz16",
        "outputId": "581971ac-5025-4507-e5b8-0ae8bb3a2ecb"
      },
      "execution_count": null,
      "outputs": [
        {
          "output_type": "stream",
          "name": "stdout",
          "text": [
            "[0 1 2 3 4]\n",
            "<class 'numpy.ndarray'>\n"
          ]
        }
      ]
    },
    {
      "cell_type": "markdown",
      "source": [
        "NumPy arrays are stored at one continuous place in memory unlike lists, so processes can access and manipulate them very efficiently.\n",
        "\n",
        "This behavior is called locality of reference in computer science.\n",
        "\n",
        "This is the main reason why NumPy is faster than lists. Also it is optimized to work with latest CPU architectures.\n",
        "\n"
      ],
      "metadata": {
        "id": "R9pBFz9VLdb0"
      }
    },
    {
      "cell_type": "code",
      "source": [
        "print(np.__version__)"
      ],
      "metadata": {
        "colab": {
          "base_uri": "https://localhost:8080/"
        },
        "id": "uSjo-f8FLfNT",
        "outputId": "de93ea71-f532-4017-cab5-696fc1e6ae48"
      },
      "execution_count": null,
      "outputs": [
        {
          "output_type": "stream",
          "name": "stdout",
          "text": [
            "1.25.2\n"
          ]
        }
      ]
    },
    {
      "cell_type": "code",
      "source": [
        "arr=np.array([10,12,34])\n",
        "print(arr)"
      ],
      "metadata": {
        "colab": {
          "base_uri": "https://localhost:8080/"
        },
        "id": "lIePO7LyL-1p",
        "outputId": "9a063324-94f1-412d-c20e-7c4dabac6185"
      },
      "execution_count": null,
      "outputs": [
        {
          "output_type": "stream",
          "name": "stdout",
          "text": [
            "[10 12 34]\n"
          ]
        }
      ]
    },
    {
      "cell_type": "markdown",
      "source": [
        "Types of Numpy arrays and its dimensions"
      ],
      "metadata": {
        "id": "b3vmoqUYMVSO"
      }
    },
    {
      "cell_type": "code",
      "source": [
        "# 0-D arrays\n",
        "arr0=np.array(100)\n",
        "print(arr0.ndim) #to find the dimension of an nd array\n",
        "\n",
        "arr1=np.array([12,14])\n",
        "print(arr1.ndim)\n",
        "\n",
        "arr2=np.array([[45,56,23,45],\n",
        "              [13,45,90,80]])\n",
        "print(arr2.ndim)\n",
        "\n",
        "arr3=np.array([[[3,5,4],[7,8,9],\n",
        "              [4,7,8],[55,3,6]]])\n",
        "print(arr3.ndim)"
      ],
      "metadata": {
        "colab": {
          "base_uri": "https://localhost:8080/"
        },
        "id": "7FM05pboMRO5",
        "outputId": "d4a49e23-6f60-4e08-ba09-06306811e23e"
      },
      "execution_count": null,
      "outputs": [
        {
          "output_type": "stream",
          "name": "stdout",
          "text": [
            "0\n",
            "1\n",
            "2\n",
            "3\n"
          ]
        }
      ]
    },
    {
      "cell_type": "code",
      "source": [
        "## Creating heigher dim arrays\n",
        "arr_high=np.array([1,2,3,4],ndmin=5) #creates a 5d array\n",
        "print(arr_high)"
      ],
      "metadata": {
        "colab": {
          "base_uri": "https://localhost:8080/"
        },
        "id": "J_Nbf-E-P1C2",
        "outputId": "a034ea89-97d2-4e2d-dfbe-97648bdd878e"
      },
      "execution_count": null,
      "outputs": [
        {
          "output_type": "stream",
          "name": "stdout",
          "text": [
            "[[[[[1 2 3 4]]]]]\n"
          ]
        }
      ]
    },
    {
      "cell_type": "markdown",
      "source": [
        "# Creating special Numpy Arrays"
      ],
      "metadata": {
        "id": "rv0pzCROU87N"
      }
    },
    {
      "cell_type": "markdown",
      "source": [
        "# Zeros"
      ],
      "metadata": {
        "id": "vH9FbGxnW578"
      }
    },
    {
      "cell_type": "code",
      "source": [
        "## Array filled with Zeros\n",
        "\n",
        "#1d array\n",
        "zero_1=np.zeros(4)\n",
        "print(zero_1)\n",
        "\n",
        "# 2D array\n",
        "zero_2=np.zeros((3,4))\n",
        "print(\"2D array\",zero_2)\n",
        "\n",
        "# 3D array\n",
        "zero_3=np.zeros((2,2,3))\n",
        "print(zero_3)"
      ],
      "metadata": {
        "id": "5TwITttMhKeS",
        "colab": {
          "base_uri": "https://localhost:8080/"
        },
        "outputId": "79024a45-84d4-4924-917f-40942b7a3dcc"
      },
      "execution_count": null,
      "outputs": [
        {
          "output_type": "stream",
          "name": "stdout",
          "text": [
            "[0. 0. 0. 0.]\n",
            "2D array [[0. 0. 0. 0.]\n",
            " [0. 0. 0. 0.]\n",
            " [0. 0. 0. 0.]]\n",
            "[[[0. 0. 0.]\n",
            "  [0. 0. 0.]]\n",
            "\n",
            " [[0. 0. 0.]\n",
            "  [0. 0. 0.]]]\n"
          ]
        }
      ]
    },
    {
      "cell_type": "markdown",
      "source": [
        "#Ones"
      ],
      "metadata": {
        "id": "a34t73esW8YH"
      }
    },
    {
      "cell_type": "code",
      "source": [
        "ones_1=np.ones(2)\n",
        "print(ones_1)\n",
        "\n",
        "print()\n",
        "ones_2=np.ones((2,2))\n",
        "print(ones_2)\n",
        "\n",
        "print()\n",
        "ones_3=np.ones(((2,2,2)))\n",
        "print(ones_3)"
      ],
      "metadata": {
        "colab": {
          "base_uri": "https://localhost:8080/"
        },
        "id": "ka48iMOXW-Q3",
        "outputId": "bea02103-35f0-4d3d-d198-6f07093f1a66"
      },
      "execution_count": null,
      "outputs": [
        {
          "output_type": "stream",
          "name": "stdout",
          "text": [
            "[1. 1.]\n",
            "\n",
            "[[1. 1.]\n",
            " [1. 1.]]\n",
            "\n",
            "[[[1. 1.]\n",
            "  [1. 1.]]\n",
            "\n",
            " [[1. 1.]\n",
            "  [1. 1.]]]\n"
          ]
        }
      ]
    },
    {
      "cell_type": "markdown",
      "source": [
        "# Empty Array"
      ],
      "metadata": {
        "id": "8EsbLNDLX0Gt"
      }
    },
    {
      "cell_type": "code",
      "source": [
        "emp=np.empty(3)\n",
        "print(emp)"
      ],
      "metadata": {
        "colab": {
          "base_uri": "https://localhost:8080/"
        },
        "id": "OxCiUepaX2Zi",
        "outputId": "154e80fc-59b5-4dbb-ed88-16b093a2753f"
      },
      "execution_count": null,
      "outputs": [
        {
          "output_type": "stream",
          "name": "stdout",
          "text": [
            "[0. 0. 0.]\n"
          ]
        }
      ]
    },
    {
      "cell_type": "code",
      "source": [
        "#Range"
      ],
      "metadata": {
        "id": "6zHPn9wVYATD"
      },
      "execution_count": null,
      "outputs": []
    },
    {
      "cell_type": "code",
      "source": [
        "range_1=np.arange(4)\n",
        "print(range_1)"
      ],
      "metadata": {
        "colab": {
          "base_uri": "https://localhost:8080/"
        },
        "id": "yqcWXAftYB5w",
        "outputId": "003d33a4-20aa-482a-e86d-60dad59fc66b"
      },
      "execution_count": null,
      "outputs": [
        {
          "output_type": "stream",
          "name": "stdout",
          "text": [
            "[0 1 2 3]\n"
          ]
        }
      ]
    },
    {
      "cell_type": "markdown",
      "source": [
        "# Diagonal elements 1"
      ],
      "metadata": {
        "id": "dSutrahXYPAz"
      }
    },
    {
      "cell_type": "code",
      "source": [
        "dia_1d=np.eye(3)\n",
        "print(dia_1d)\n",
        "print()\n",
        "\n",
        "dia_2d=np.eye(4,4)\n",
        "print(dia_2d)"
      ],
      "metadata": {
        "colab": {
          "base_uri": "https://localhost:8080/"
        },
        "id": "J7aCkQaOYOFs",
        "outputId": "c6fb63fe-6145-4add-ffd4-c17f11f0ba88"
      },
      "execution_count": null,
      "outputs": [
        {
          "output_type": "stream",
          "name": "stdout",
          "text": [
            "[[1. 0. 0.]\n",
            " [0. 1. 0.]\n",
            " [0. 0. 1.]]\n",
            "\n",
            "[[1. 0. 0. 0.]\n",
            " [0. 1. 0. 0.]\n",
            " [0. 0. 1. 0.]\n",
            " [0. 0. 0. 1.]]\n"
          ]
        }
      ]
    },
    {
      "cell_type": "markdown",
      "source": [
        "# Array with intervals"
      ],
      "metadata": {
        "id": "3HGRPGn3ZJEg"
      }
    },
    {
      "cell_type": "code",
      "source": [
        "lin= np.linspace(0,20,5)\n",
        "print(lin)"
      ],
      "metadata": {
        "colab": {
          "base_uri": "https://localhost:8080/"
        },
        "id": "y5jUl91XZM97",
        "outputId": "e0fdcdb3-d13c-4af1-eb32-bb0f8d7ea253"
      },
      "execution_count": null,
      "outputs": [
        {
          "output_type": "stream",
          "name": "stdout",
          "text": [
            "[ 0.  5. 10. 15. 20.]\n"
          ]
        }
      ]
    },
    {
      "cell_type": "markdown",
      "source": [
        "#CREATING NUMPY ARRAYS USING RANDOM NUMBERS\n",
        "1. rand()\n",
        "2. randn()\n",
        "3. ranf()\n",
        "4. randint()"
      ],
      "metadata": {
        "id": "BIwdJ9O9b3vt"
      }
    },
    {
      "cell_type": "code",
      "source": [
        "# rand() : to generate randon numbers between 0 and 1  only positive\n",
        "arr1=np.random.rand(4)\n",
        "print(arr1)\n",
        "\n",
        "print()\n",
        "arr2=np.random.rand(3,3)\n",
        "print(arr2)"
      ],
      "metadata": {
        "colab": {
          "base_uri": "https://localhost:8080/"
        },
        "id": "8hnywMcFb-DI",
        "outputId": "25f88f63-d29e-447f-9d6b-e3477413908b"
      },
      "execution_count": null,
      "outputs": [
        {
          "output_type": "stream",
          "name": "stdout",
          "text": [
            "[0.7548644  0.77708044 0.78160651 0.82603553]\n",
            "\n",
            "[[0.89162551 0.18509132 0.58830605]\n",
            " [0.16154358 0.61366526 0.24627078]\n",
            " [0.8937111  0.78604625 0.03656738]]\n"
          ]
        }
      ]
    },
    {
      "cell_type": "code",
      "source": [
        "# randn() : generate numbers between 0 and1 both positive and -ve\n",
        "arr3=np.random.randn(4)\n",
        "print(arr3)"
      ],
      "metadata": {
        "colab": {
          "base_uri": "https://localhost:8080/"
        },
        "id": "YmRmIHdQc6j6",
        "outputId": "cb186935-befd-4214-e7a7-cf800824c3bf"
      },
      "execution_count": null,
      "outputs": [
        {
          "output_type": "stream",
          "name": "stdout",
          "text": [
            "[ 0.42371693  0.64363367 -1.07730076 -0.15127358]\n"
          ]
        }
      ]
    },
    {
      "cell_type": "code",
      "source": [
        "# randf() : to generate numbers between 0 and excluding 1\n",
        "arr4= np.random.ranf(4)\n",
        "print(arr4)"
      ],
      "metadata": {
        "colab": {
          "base_uri": "https://localhost:8080/"
        },
        "id": "mTKE5qd3df5U",
        "outputId": "8573401b-2a5b-4ecd-b9a7-4a70bc1844ae"
      },
      "execution_count": null,
      "outputs": [
        {
          "output_type": "stream",
          "name": "stdout",
          "text": [
            "[0.35209453 0.73681205 0.27879925 0.97793273]\n"
          ]
        }
      ]
    },
    {
      "cell_type": "code",
      "source": [
        "# randint(): to generate numbers betweeen any 2 numbers\n",
        "#randint(start,end,no of items)\n",
        "arr5= np.random.randint(2,10,4)\n",
        "print(arr5)"
      ],
      "metadata": {
        "colab": {
          "base_uri": "https://localhost:8080/"
        },
        "id": "3IxvD5tMd3Aw",
        "outputId": "d9020c71-0c4b-4d1a-81f4-545eb532d6db"
      },
      "execution_count": null,
      "outputs": [
        {
          "output_type": "stream",
          "name": "stdout",
          "text": [
            "[9 4 2 2]\n"
          ]
        }
      ]
    },
    {
      "cell_type": "markdown",
      "source": [
        "#Arithmatic Operations in Numpy"
      ],
      "metadata": {
        "id": "-rXP3snBf6YP"
      }
    },
    {
      "cell_type": "markdown",
      "source": [
        "Addition"
      ],
      "metadata": {
        "id": "kCN47cb2f6OV"
      }
    },
    {
      "cell_type": "code",
      "source": [
        "a1=np.array([3,4,5])\n",
        "a2=np.array([5,6,7])\n",
        "\n",
        "print(a1+a2)\n"
      ],
      "metadata": {
        "colab": {
          "base_uri": "https://localhost:8080/"
        },
        "id": "JUxu59T5ib-J",
        "outputId": "1dae6321-a7ae-47aa-9fc9-6425d18dc99b"
      },
      "execution_count": null,
      "outputs": [
        {
          "output_type": "stream",
          "name": "stdout",
          "text": [
            "[ 8 10 12]\n"
          ]
        }
      ]
    },
    {
      "cell_type": "code",
      "source": [
        "print(np.add(a1,a2))"
      ],
      "metadata": {
        "colab": {
          "base_uri": "https://localhost:8080/"
        },
        "id": "w5DjTXEFixSb",
        "outputId": "c15a948a-e340-4d26-802a-29fb08217176"
      },
      "execution_count": null,
      "outputs": [
        {
          "output_type": "stream",
          "name": "stdout",
          "text": [
            "[ 8 10 12]\n"
          ]
        }
      ]
    },
    {
      "cell_type": "markdown",
      "source": [
        "Subtraction"
      ],
      "metadata": {
        "id": "c1Oo1kiTi30P"
      }
    },
    {
      "cell_type": "code",
      "source": [
        "a=np.array([9,8,4])\n",
        "b=np.array([3,4,5])\n",
        "print(a-b)"
      ],
      "metadata": {
        "colab": {
          "base_uri": "https://localhost:8080/"
        },
        "id": "Y4wr-kq9i52Q",
        "outputId": "a13f1205-0401-4d04-bfd6-b036b0c16155"
      },
      "execution_count": null,
      "outputs": [
        {
          "output_type": "stream",
          "name": "stdout",
          "text": [
            "[ 6  4 -1]\n"
          ]
        }
      ]
    },
    {
      "cell_type": "code",
      "source": [
        "print(np.subtract(a,b))"
      ],
      "metadata": {
        "colab": {
          "base_uri": "https://localhost:8080/"
        },
        "id": "HFrO7sq1jK-m",
        "outputId": "9f24d7eb-2c36-4517-abe8-1367134fabb3"
      },
      "execution_count": null,
      "outputs": [
        {
          "output_type": "stream",
          "name": "stdout",
          "text": [
            "[ 6  4 -1]\n"
          ]
        }
      ]
    },
    {
      "cell_type": "markdown",
      "source": [
        "Multiplication"
      ],
      "metadata": {
        "id": "OhQqMOfCjSAS"
      }
    },
    {
      "cell_type": "code",
      "source": [
        "am=np.array([4,5,6])\n",
        "an=np.array([8,9,10])\n",
        "print(am*an)\n",
        "print(np.multiply(am,an))"
      ],
      "metadata": {
        "colab": {
          "base_uri": "https://localhost:8080/"
        },
        "id": "jaitBuEcjUSX",
        "outputId": "e06e65ce-fdd4-41ba-fec6-715335da7317"
      },
      "execution_count": null,
      "outputs": [
        {
          "output_type": "stream",
          "name": "stdout",
          "text": [
            "[32 45 60]\n",
            "[32 45 60]\n"
          ]
        }
      ]
    },
    {
      "cell_type": "markdown",
      "source": [
        "Divide\n"
      ],
      "metadata": {
        "id": "DS5tocHuj2lo"
      }
    },
    {
      "cell_type": "code",
      "source": [
        "ad=np.array([10,12,14])\n",
        "bd=np.array([2,4,4])\n",
        "print(ad/bd)\n",
        "print(np.divide(ad,bd))"
      ],
      "metadata": {
        "colab": {
          "base_uri": "https://localhost:8080/"
        },
        "id": "g-Lyl9Rsj31K",
        "outputId": "3c24efbf-e667-4e83-d836-d385c25e3991"
      },
      "execution_count": null,
      "outputs": [
        {
          "output_type": "stream",
          "name": "stdout",
          "text": [
            "[5.  3.  3.5]\n",
            "[5.  3.  3.5]\n"
          ]
        }
      ]
    },
    {
      "cell_type": "markdown",
      "source": [
        "Modulas"
      ],
      "metadata": {
        "id": "PUX6eZZdkVZl"
      }
    },
    {
      "cell_type": "code",
      "source": [
        "c=np.array([7,8,9])\n",
        "d=np.array([2,3,4])\n",
        "print(c%d)\n",
        "print(np.mod(c,d))"
      ],
      "metadata": {
        "colab": {
          "base_uri": "https://localhost:8080/"
        },
        "id": "r-S2xm8NkS2F",
        "outputId": "111a84f0-1456-4580-ac46-b4042eecc8da"
      },
      "execution_count": null,
      "outputs": [
        {
          "output_type": "stream",
          "name": "stdout",
          "text": [
            "[1 2 1]\n",
            "[1 2 1]\n"
          ]
        }
      ]
    },
    {
      "cell_type": "markdown",
      "source": [
        "Power and reciprocal"
      ],
      "metadata": {
        "id": "-LGYqnONkta-"
      }
    },
    {
      "cell_type": "code",
      "source": [
        "p=np.array([2,3,4,5])\n",
        "q=np.array([2,2,3,3])\n",
        "print(p**q)\n",
        "print(np.power(p,q))"
      ],
      "metadata": {
        "colab": {
          "base_uri": "https://localhost:8080/"
        },
        "id": "3gdyWB89k129",
        "outputId": "06fe21e4-1c0c-441b-b99a-a37923f5d300"
      },
      "execution_count": null,
      "outputs": [
        {
          "output_type": "stream",
          "name": "stdout",
          "text": [
            "[  4   9  64 125]\n",
            "[  4   9  64 125]\n"
          ]
        }
      ]
    },
    {
      "cell_type": "markdown",
      "source": [
        "Operations on 2D arrays"
      ],
      "metadata": {
        "id": "iCYBAS8RlPXr"
      }
    },
    {
      "cell_type": "code",
      "source": [
        "arr1=np.array([[4,3,2],[5,3,1]])\n",
        "arr2=np.array([[6,7,8],[9,8,7]])\n",
        "\n",
        "print(\"add\",np.add(arr1,arr2))\n",
        "print()\n",
        "print(\"sub\",np.subtract(arr1,arr2))\n",
        "print()\n",
        "print(\"multiply\",np.multiply(arr1,arr2))\n",
        "print()\n",
        "print(\"divide\",np.divide(arr1,arr2))\n",
        "print()\n",
        "print(\"exponat\",np.power(arr1,arr2))\n"
      ],
      "metadata": {
        "colab": {
          "base_uri": "https://localhost:8080/"
        },
        "id": "9P8rHwgLlTNI",
        "outputId": "74955b58-4804-453d-b072-8b5661602fbc"
      },
      "execution_count": null,
      "outputs": [
        {
          "output_type": "stream",
          "name": "stdout",
          "text": [
            "add [[10 10 10]\n",
            " [14 11  8]]\n",
            "\n",
            "sub [[-2 -4 -6]\n",
            " [-4 -5 -6]]\n",
            "\n",
            "multiply [[24 21 16]\n",
            " [45 24  7]]\n",
            "\n",
            "divide [[0.66666667 0.42857143 0.25      ]\n",
            " [0.55555556 0.375      0.14285714]]\n",
            "\n",
            "exponat [[   4096    2187     256]\n",
            " [1953125    6561       1]]\n"
          ]
        }
      ]
    },
    {
      "cell_type": "markdown",
      "source": [
        "#Arithmatic Functions in Numpy"
      ],
      "metadata": {
        "id": "_R6qNFA4pmFW"
      }
    },
    {
      "cell_type": "code",
      "source": [
        "arry=np.array([10,12,14,16,18])\n",
        "print(np.min(arry))#to find min val of array\n",
        "print(np.max(arry))#to find max val of array\n",
        "print(np.argmin(arry))#to find index of min value in array\n",
        "print(np.argmax(arry))#to find index of max value in array\n",
        "print(np.sqrt(arry))#to find sq root of items\n",
        "print(np.cumsum(arry)) # to find cummulative sum of items (prevterm+presentterm )\n",
        "print()\n",
        "arr2=([90,150,270])\n",
        "print(np.cos(arr2))\n",
        "print(np.sin(arr2))"
      ],
      "metadata": {
        "colab": {
          "base_uri": "https://localhost:8080/"
        },
        "id": "__o2ytqSprke",
        "outputId": "1488ea44-cb97-4c32-b30e-b04bc059863a"
      },
      "execution_count": null,
      "outputs": [
        {
          "output_type": "stream",
          "name": "stdout",
          "text": [
            "10\n",
            "18\n",
            "0\n",
            "4\n",
            "[3.16227766 3.46410162 3.74165739 4.         4.24264069]\n",
            "[10 22 36 52 70]\n",
            "\n",
            "[-0.44807362  0.69925081  0.98438195]\n",
            "[ 0.89399666 -0.71487643 -0.17604595]\n"
          ]
        }
      ]
    },
    {
      "cell_type": "markdown",
      "source": [
        "#Shape and Reshaping in NumPy Arrays"
      ],
      "metadata": {
        "id": "gWJfMk_ZxHJ_"
      }
    },
    {
      "cell_type": "code",
      "source": [
        "ary=np.array([[1,2],\n",
        "              [1,2]])\n",
        "print(np.ndim(ary))\n",
        "print(np.shape(ary))\n",
        "print()\n",
        "\n",
        "ary2=np.array([[1,2,3,4],\n",
        "              [1,2,3,4]])\n",
        "print(np.ndim(ary2))\n",
        "print(np.shape(ary2))"
      ],
      "metadata": {
        "colab": {
          "base_uri": "https://localhost:8080/"
        },
        "id": "Iy6PDHE4xIlG",
        "outputId": "8f7c0bbb-7a5f-45f3-c7be-50ebcbd9d666"
      },
      "execution_count": null,
      "outputs": [
        {
          "output_type": "stream",
          "name": "stdout",
          "text": [
            "2\n",
            "(2, 2)\n",
            "\n",
            "2\n",
            "(2, 4)\n"
          ]
        }
      ]
    },
    {
      "cell_type": "markdown",
      "source": [
        "Changing dimension of an array"
      ],
      "metadata": {
        "id": "buM6IwwfyPAc"
      }
    },
    {
      "cell_type": "code",
      "source": [
        "ary3=np.array([4,5,6,7],ndmin=3)\n",
        "print(np.ndim(ary3)) #[[[4,5,6,7]]]\n",
        "print(np.shape(ary3))"
      ],
      "metadata": {
        "colab": {
          "base_uri": "https://localhost:8080/"
        },
        "id": "6sZYhGVMySKN",
        "outputId": "24c48428-9c0b-411a-d471-2d1f5151f1b4"
      },
      "execution_count": null,
      "outputs": [
        {
          "output_type": "stream",
          "name": "stdout",
          "text": [
            "3\n",
            "(1, 1, 4)\n"
          ]
        }
      ]
    },
    {
      "cell_type": "markdown",
      "source": [
        "Reshaping a numpy array"
      ],
      "metadata": {
        "id": "Jkv-_K1ez9XJ"
      }
    },
    {
      "cell_type": "code",
      "source": [
        "ary4=np.array([3,4,5,6,7,8])\n",
        "print(ary4.reshape(3,2)) #converting a (1X6) array to (3X2)\n",
        "print(ary4.shape)\n",
        "print(ary4.ndim)\n",
        "#print(ary4.reshape(2,2)) #reshape(rows,column) note rows and col must be compatible with data in orignal array"
      ],
      "metadata": {
        "colab": {
          "base_uri": "https://localhost:8080/"
        },
        "id": "bForAOIdyKI2",
        "outputId": "1e0465dc-e4bb-4ff8-c6b7-e570320c9669"
      },
      "execution_count": null,
      "outputs": [
        {
          "output_type": "stream",
          "name": "stdout",
          "text": [
            "[[3 4]\n",
            " [5 6]\n",
            " [7 8]]\n",
            "(6,)\n",
            "1\n"
          ]
        }
      ]
    },
    {
      "cell_type": "code",
      "source": [
        "#converting a multidim array to 1d arry\n",
        "ar_mult=np.array([[[3,4,5],[5,6,7],[9,10,11],\n",
        "                   [4,3,1],[4,9,5],[9,8,5],\n",
        "                   [23,34,56],[95,59,90],[56,45,55]]])\n",
        "print(ar_mult.shape())\n",
        "print(ar_mult.ndim)"
      ],
      "metadata": {
        "id": "RzSOwTSM1e61",
        "colab": {
          "base_uri": "https://localhost:8080/",
          "height": 193
        },
        "outputId": "3fa5b237-6310-433b-f86c-b1630036462e"
      },
      "execution_count": null,
      "outputs": [
        {
          "output_type": "error",
          "ename": "TypeError",
          "evalue": "'tuple' object is not callable",
          "traceback": [
            "\u001b[0;31m---------------------------------------------------------------------------\u001b[0m",
            "\u001b[0;31mTypeError\u001b[0m                                 Traceback (most recent call last)",
            "\u001b[0;32m<ipython-input-5-ba86287ce6d5>\u001b[0m in \u001b[0;36m<cell line: 5>\u001b[0;34m()\u001b[0m\n\u001b[1;32m      3\u001b[0m                    \u001b[0;34m[\u001b[0m\u001b[0;36m4\u001b[0m\u001b[0;34m,\u001b[0m\u001b[0;36m3\u001b[0m\u001b[0;34m,\u001b[0m\u001b[0;36m1\u001b[0m\u001b[0;34m]\u001b[0m\u001b[0;34m,\u001b[0m\u001b[0;34m[\u001b[0m\u001b[0;36m4\u001b[0m\u001b[0;34m,\u001b[0m\u001b[0;36m9\u001b[0m\u001b[0;34m,\u001b[0m\u001b[0;36m5\u001b[0m\u001b[0;34m]\u001b[0m\u001b[0;34m,\u001b[0m\u001b[0;34m[\u001b[0m\u001b[0;36m9\u001b[0m\u001b[0;34m,\u001b[0m\u001b[0;36m8\u001b[0m\u001b[0;34m,\u001b[0m\u001b[0;36m5\u001b[0m\u001b[0;34m]\u001b[0m\u001b[0;34m,\u001b[0m\u001b[0;34m\u001b[0m\u001b[0;34m\u001b[0m\u001b[0m\n\u001b[1;32m      4\u001b[0m                    [23,34,56],[95,59,90],[56,45,55]]])\n\u001b[0;32m----> 5\u001b[0;31m \u001b[0mprint\u001b[0m\u001b[0;34m(\u001b[0m\u001b[0mar_mult\u001b[0m\u001b[0;34m.\u001b[0m\u001b[0mshape\u001b[0m\u001b[0;34m(\u001b[0m\u001b[0;34m)\u001b[0m\u001b[0;34m)\u001b[0m\u001b[0;34m\u001b[0m\u001b[0;34m\u001b[0m\u001b[0m\n\u001b[0m\u001b[1;32m      6\u001b[0m \u001b[0mprint\u001b[0m\u001b[0;34m(\u001b[0m\u001b[0mar_mult\u001b[0m\u001b[0;34m.\u001b[0m\u001b[0mndim\u001b[0m\u001b[0;34m)\u001b[0m\u001b[0;34m\u001b[0m\u001b[0;34m\u001b[0m\u001b[0m\n",
            "\u001b[0;31mTypeError\u001b[0m: 'tuple' object is not callable"
          ]
        }
      ]
    },
    {
      "cell_type": "markdown",
      "source": [
        "Slicing/ Indexing In Numpy Arrays"
      ],
      "metadata": {
        "id": "3Hop0f9nhCya"
      }
    },
    {
      "cell_type": "code",
      "source": [
        "var1=np.array([1,2,3,4,5])\n",
        "print(var1.ndim)\n",
        "print(var1.shape)\n",
        "print(var1[3])\n",
        "\n",
        "var2=np.array([[3,4,5],\n",
        "              [6,7,8]])\n",
        "print(var2.ndim)\n",
        "print(var2.shape)\n",
        "print(var2[0][2])\n",
        "print(var2[1][1])\n",
        "\n",
        "print()\n",
        "\n",
        "var3=np.array([[[5,6,7],[2,4,5]]])\n",
        "print(var3.ndim)\n",
        "print(var3.shape)\n",
        "print(var3[0,0,1])"
      ],
      "metadata": {
        "id": "EJp5lJW1ctit",
        "colab": {
          "base_uri": "https://localhost:8080/"
        },
        "outputId": "2c716e62-0a9a-4c4d-acd6-f9608b5f60b5"
      },
      "execution_count": null,
      "outputs": [
        {
          "output_type": "stream",
          "name": "stdout",
          "text": [
            "1\n",
            "(5,)\n",
            "4\n",
            "2\n",
            "(2, 3)\n",
            "5\n",
            "7\n",
            "\n",
            "3\n",
            "(1, 2, 3)\n",
            "6\n"
          ]
        }
      ]
    },
    {
      "cell_type": "code",
      "source": [
        "# slicing\n",
        "v1=np.array([9,8,7,6,5,3,1,2])\n",
        "print(v1[1:])\n",
        "print(v1[:3])\n",
        "print(v1[::2])\n",
        "\n",
        "print()\n",
        "\n",
        "v2=np.array([[3,4,5,6],\n",
        "             [9,8,7,0]])\n",
        "print(v2[0,1:])\n",
        "print(v2[1,2:])"
      ],
      "metadata": {
        "colab": {
          "base_uri": "https://localhost:8080/"
        },
        "id": "TdvRyhZLnrXP",
        "outputId": "1ab1b5dd-b506-4ae7-853c-5ff459db70ff"
      },
      "execution_count": null,
      "outputs": [
        {
          "output_type": "stream",
          "name": "stdout",
          "text": [
            "[8 7 6 5 3 1 2]\n",
            "[9 8 7]\n",
            "[9 7 5 1]\n",
            "\n",
            "[4 5 6]\n",
            "[7 0]\n"
          ]
        }
      ]
    },
    {
      "cell_type": "markdown",
      "source": [
        "# Broadcasting of Numpy array"
      ],
      "metadata": {
        "id": "ffOK7InUpfeW"
      }
    },
    {
      "cell_type": "code",
      "source": [
        "# prompt: iter\n",
        "\n",
        "import numpy as np\n",
        "\n",
        "# Create a 1-D array\n",
        "a = np.array([1, 2, 3, 4, 5])\n",
        "#shape(1,5)\n",
        "\n",
        "# Create a 2-D array\n",
        "b = np.array([[1, 2, 3], [4, 5, 6]])\n",
        "#shape(2,3)\n",
        "\n",
        "# Add the 1-D array to each row of the 2-D array\n",
        "c = a + b\n",
        "\n",
        "# Print the resulting array\n",
        "print(c)\n",
        "# it gives the broadcast error because the shape of 2 arrays added is not compatible to make them copatible we should use arrays\n",
        "#of same shape\n",
        "\n",
        "\n",
        "## Check the shapes of the arrays a and b using the shape attribute.\n",
        "#If the shapes are different, try reshaping one of the arrays to have the same number of dimensions as the other.\n",
        "#If the shapes are the same, check if the data types of the arrays are compatible for the operation you are trying to perform.\n",
        "#If the data types are not compatible, try converting one of the arrays to a compatible data type.\n",
        "\n"
      ],
      "metadata": {
        "colab": {
          "base_uri": "https://localhost:8080/",
          "height": 211
        },
        "id": "jptNzwNcsGvN",
        "outputId": "dca4f2d4-b8ea-4105-dc1b-059f765ccf53"
      },
      "execution_count": null,
      "outputs": [
        {
          "output_type": "error",
          "ename": "ValueError",
          "evalue": "operands could not be broadcast together with shapes (5,) (2,3) ",
          "traceback": [
            "\u001b[0;31m---------------------------------------------------------------------------\u001b[0m",
            "\u001b[0;31mValueError\u001b[0m                                Traceback (most recent call last)",
            "\u001b[0;32m<ipython-input-10-d2c3966e4920>\u001b[0m in \u001b[0;36m<cell line: 12>\u001b[0;34m()\u001b[0m\n\u001b[1;32m     10\u001b[0m \u001b[0;34m\u001b[0m\u001b[0m\n\u001b[1;32m     11\u001b[0m \u001b[0;31m# Add the 1-D array to each row of the 2-D array\u001b[0m\u001b[0;34m\u001b[0m\u001b[0;34m\u001b[0m\u001b[0m\n\u001b[0;32m---> 12\u001b[0;31m \u001b[0mc\u001b[0m \u001b[0;34m=\u001b[0m \u001b[0ma\u001b[0m \u001b[0;34m+\u001b[0m \u001b[0mb\u001b[0m\u001b[0;34m\u001b[0m\u001b[0;34m\u001b[0m\u001b[0m\n\u001b[0m\u001b[1;32m     13\u001b[0m \u001b[0;34m\u001b[0m\u001b[0m\n\u001b[1;32m     14\u001b[0m \u001b[0;31m# Print the resulting array\u001b[0m\u001b[0;34m\u001b[0m\u001b[0;34m\u001b[0m\u001b[0m\n",
            "\u001b[0;31mValueError\u001b[0m: operands could not be broadcast together with shapes (5,) (2,3) "
          ]
        }
      ]
    },
    {
      "cell_type": "code",
      "source": [
        "ar1=np.array([[2],[4]])\n",
        "print(ar1.shape)\n",
        "\n",
        "ar2=np.array([[5,3,2],[6,7,8]])\n",
        "print(ar2.shape)\n",
        "\n",
        "print(ar1+ar2)\n",
        "print((ar1+ar2).shape)"
      ],
      "metadata": {
        "colab": {
          "base_uri": "https://localhost:8080/"
        },
        "id": "4CeuTXDmuBc_",
        "outputId": "63eefb2f-c937-44dd-d4b6-bf81454461cb"
      },
      "execution_count": null,
      "outputs": [
        {
          "output_type": "stream",
          "name": "stdout",
          "text": [
            "(2, 1)\n",
            "(2, 3)\n",
            "[[ 7  5  4]\n",
            " [10 11 12]]\n",
            "(2, 3)\n"
          ]
        }
      ]
    },
    {
      "cell_type": "markdown",
      "source": [
        "# Numpy Iteration"
      ],
      "metadata": {
        "id": "XJGpv46IMSx3"
      }
    },
    {
      "cell_type": "code",
      "source": [
        "#1D\n",
        "a1=np.array([1,2,3,4])\n",
        "print(a1)\n",
        "\n",
        "print()\n",
        "\n",
        "for i in a1:\n",
        "  print(i)\n",
        "\n",
        "#2d\n",
        "a2=np.array([[4,3,2,1],[6,7,8,9]])\n",
        "print(a2)\n",
        "print()\n",
        "#since it is a 2d aray we need to iterate 2times to get individual values of array\n",
        "\n",
        "for j in a2:\n",
        "  for k in j:\n",
        "    print(k)\n"
      ],
      "metadata": {
        "colab": {
          "base_uri": "https://localhost:8080/"
        },
        "id": "24IXib9ePF9Y",
        "outputId": "80510293-5205-49d8-befa-f93aff69dd28"
      },
      "execution_count": 5,
      "outputs": [
        {
          "output_type": "stream",
          "name": "stdout",
          "text": [
            "[1 2 3 4]\n",
            "\n",
            "1\n",
            "2\n",
            "3\n",
            "4\n",
            "[[4 3 2 1]\n",
            " [6 7 8 9]]\n",
            "\n",
            "4\n",
            "3\n",
            "2\n",
            "1\n",
            "6\n",
            "7\n",
            "8\n",
            "9\n"
          ]
        }
      ]
    },
    {
      "cell_type": "code",
      "source": [
        "#3D\n",
        "a3=np.array([[[10,11,12],[13,14,15],[16,1,18]]])\n",
        "print(a3.ndim)\n",
        "print(a3)\n",
        "print()\n",
        "\n",
        "for p in a3:\n",
        "  for q in p:\n",
        "    for r in q:\n",
        "      print(r)"
      ],
      "metadata": {
        "colab": {
          "base_uri": "https://localhost:8080/"
        },
        "id": "PsmxnLo9RaIz",
        "outputId": "1b048a5b-ade6-45cb-cbf3-91090c80bc16"
      },
      "execution_count": 7,
      "outputs": [
        {
          "output_type": "stream",
          "name": "stdout",
          "text": [
            "3\n",
            "[[[10 11 12]\n",
            "  [13 14 15]\n",
            "  [16  1 18]]]\n",
            "\n",
            "10\n",
            "11\n",
            "12\n",
            "13\n",
            "14\n",
            "15\n",
            "16\n",
            "1\n",
            "18\n"
          ]
        }
      ]
    },
    {
      "cell_type": "markdown",
      "source": [
        "Iterating numpy array without for loop"
      ],
      "metadata": {
        "id": "zZluAuRXSVdd"
      }
    },
    {
      "cell_type": "code",
      "source": [
        "#nditer()\n",
        "a1=np.array([1,2,3,4])\n",
        "print(a1)"
      ],
      "metadata": {
        "id": "bKEIJIQtSaA9"
      },
      "execution_count": null,
      "outputs": []
    }
  ]
}